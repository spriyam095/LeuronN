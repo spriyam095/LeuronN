{
  "nbformat": 4,
  "nbformat_minor": 0,
  "metadata": {
    "colab": {
      "name": "Review_Sentiment_Analysis.ipynb",
      "provenance": [],
      "collapsed_sections": [],
      "authorship_tag": "ABX9TyNy8mRxYCJ9s1yTOSHBex6g",
      "include_colab_link": true
    },
    "kernelspec": {
      "name": "python3",
      "display_name": "Python 3"
    }
  },
  "cells": [
    {
      "cell_type": "markdown",
      "metadata": {
        "id": "view-in-github",
        "colab_type": "text"
      },
      "source": [
        "<a href=\"https://colab.research.google.com/github/spriyam095/LeuronN/blob/master/Review%20Sentiment%20Analysis/Review_Sentiment_Analysis.ipynb\" target=\"_parent\"><img src=\"https://colab.research.google.com/assets/colab-badge.svg\" alt=\"Open In Colab\"/></a>"
      ]
    },
    {
      "cell_type": "markdown",
      "metadata": {
        "id": "FUTx2teLXNiS",
        "colab_type": "text"
      },
      "source": [
        "# **`Review Sentiment Analysis`**"
      ]
    },
    {
      "cell_type": "markdown",
      "metadata": {
        "id": "4klWI1kiZMq9",
        "colab_type": "text"
      },
      "source": [
        "### **Mounting Google Drive**"
      ]
    },
    {
      "cell_type": "code",
      "metadata": {
        "id": "IYfS2DdtZWxb",
        "colab_type": "code",
        "outputId": "27efd3bb-4e54-4e3d-892c-acf55c69429a",
        "colab": {
          "base_uri": "https://localhost:8080/",
          "height": 121
        }
      },
      "source": [
        "from google.colab import drive\n",
        "drive.mount('/content/drive/')"
      ],
      "execution_count": 2,
      "outputs": [
        {
          "output_type": "stream",
          "text": [
            "Go to this URL in a browser: https://accounts.google.com/o/oauth2/auth?client_id=947318989803-6bn6qk8qdgf4n4g3pfee6491hc0brc4i.apps.googleusercontent.com&redirect_uri=urn%3aietf%3awg%3aoauth%3a2.0%3aoob&response_type=code&scope=email%20https%3a%2f%2fwww.googleapis.com%2fauth%2fdocs.test%20https%3a%2f%2fwww.googleapis.com%2fauth%2fdrive%20https%3a%2f%2fwww.googleapis.com%2fauth%2fdrive.photos.readonly%20https%3a%2f%2fwww.googleapis.com%2fauth%2fpeopleapi.readonly\n",
            "\n",
            "Enter your authorization code:\n",
            "··········\n",
            "Mounted at /content/drive/\n"
          ],
          "name": "stdout"
        }
      ]
    },
    {
      "cell_type": "markdown",
      "metadata": {
        "id": "o60m-_HcXiRc",
        "colab_type": "text"
      },
      "source": [
        "### **Importing our data.**"
      ]
    },
    {
      "cell_type": "code",
      "metadata": {
        "id": "pMs-TWmoXg3f",
        "colab_type": "code",
        "colab": {}
      },
      "source": [
        "import pandas as pd\n",
        "\n",
        "data = pd.read_excel('/content/drive/My Drive/append1.xlsx')"
      ],
      "execution_count": 0,
      "outputs": []
    },
    {
      "cell_type": "markdown",
      "metadata": {
        "id": "4RUJgJKtXlPr",
        "colab_type": "text"
      },
      "source": [
        "## **Viewing the Data**"
      ]
    },
    {
      "cell_type": "code",
      "metadata": {
        "id": "0yfhYrwMXbqh",
        "colab_type": "code",
        "outputId": "8bddc800-29a3-4921-d6e9-af9abb94e41d",
        "colab": {
          "base_uri": "https://localhost:8080/",
          "height": 195
        }
      },
      "source": [
        "data.head()"
      ],
      "execution_count": 4,
      "outputs": [
        {
          "output_type": "execute_result",
          "data": {
            "text/html": [
              "<div>\n",
              "<style scoped>\n",
              "    .dataframe tbody tr th:only-of-type {\n",
              "        vertical-align: middle;\n",
              "    }\n",
              "\n",
              "    .dataframe tbody tr th {\n",
              "        vertical-align: top;\n",
              "    }\n",
              "\n",
              "    .dataframe thead th {\n",
              "        text-align: right;\n",
              "    }\n",
              "</style>\n",
              "<table border=\"1\" class=\"dataframe\">\n",
              "  <thead>\n",
              "    <tr style=\"text-align: right;\">\n",
              "      <th></th>\n",
              "      <th>web_pid</th>\n",
              "      <th>title</th>\n",
              "      <th>text</th>\n",
              "      <th>rating</th>\n",
              "      <th>text.1</th>\n",
              "      <th>sentiment</th>\n",
              "    </tr>\n",
              "  </thead>\n",
              "  <tbody>\n",
              "    <tr>\n",
              "      <th>0</th>\n",
              "      <td>B0725RDJCQ</td>\n",
              "      <td>Five Stars</td>\n",
              "      <td>Very good quality and ordered L, it fits as ex...</td>\n",
              "      <td>5</td>\n",
              "      <td>Five StarsVery good quality and ordered L, it ...</td>\n",
              "      <td>Positive</td>\n",
              "    </tr>\n",
              "    <tr>\n",
              "      <th>1</th>\n",
              "      <td>B0725RDJCQ</td>\n",
              "      <td>The quality of fabrics is not good. According ...</td>\n",
              "      <td>The quality of fabrics is not good . According...</td>\n",
              "      <td>3</td>\n",
              "      <td>The quality of fabrics is not good. According ...</td>\n",
              "      <td>Neutral</td>\n",
              "    </tr>\n",
              "    <tr>\n",
              "      <th>2</th>\n",
              "      <td>B0725RDJCQ</td>\n",
              "      <td>Very good</td>\n",
              "      <td>I ordered this from paytm .good quality produc...</td>\n",
              "      <td>4</td>\n",
              "      <td>Very goodI ordered this from paytm .good quali...</td>\n",
              "      <td>Positive</td>\n",
              "    </tr>\n",
              "    <tr>\n",
              "      <th>3</th>\n",
              "      <td>B0725RDJCQ</td>\n",
              "      <td>Bad quality</td>\n",
              "      <td>Product looks same as in the image but its not...</td>\n",
              "      <td>2</td>\n",
              "      <td>Bad qualityProduct looks same as in the image ...</td>\n",
              "      <td>Negative</td>\n",
              "    </tr>\n",
              "    <tr>\n",
              "      <th>4</th>\n",
              "      <td>B071H63TH5</td>\n",
              "      <td>Very bad print and 3rd clasd</td>\n",
              "      <td>Print very bad</td>\n",
              "      <td>1</td>\n",
              "      <td>Very bad print and 3rd clasdPrint very bad</td>\n",
              "      <td>Negative</td>\n",
              "    </tr>\n",
              "  </tbody>\n",
              "</table>\n",
              "</div>"
            ],
            "text/plain": [
              "      web_pid  ... sentiment\n",
              "0  B0725RDJCQ  ...  Positive\n",
              "1  B0725RDJCQ  ...   Neutral\n",
              "2  B0725RDJCQ  ...  Positive\n",
              "3  B0725RDJCQ  ...  Negative\n",
              "4  B071H63TH5  ...  Negative\n",
              "\n",
              "[5 rows x 6 columns]"
            ]
          },
          "metadata": {
            "tags": []
          },
          "execution_count": 4
        }
      ]
    },
    {
      "cell_type": "code",
      "metadata": {
        "id": "KG9bZozYXxLu",
        "colab_type": "code",
        "outputId": "6bba4c4d-2809-4e23-e88f-deece4f6c75e",
        "colab": {
          "base_uri": "https://localhost:8080/",
          "height": 284
        }
      },
      "source": [
        "data.describe()"
      ],
      "execution_count": 5,
      "outputs": [
        {
          "output_type": "execute_result",
          "data": {
            "text/html": [
              "<div>\n",
              "<style scoped>\n",
              "    .dataframe tbody tr th:only-of-type {\n",
              "        vertical-align: middle;\n",
              "    }\n",
              "\n",
              "    .dataframe tbody tr th {\n",
              "        vertical-align: top;\n",
              "    }\n",
              "\n",
              "    .dataframe thead th {\n",
              "        text-align: right;\n",
              "    }\n",
              "</style>\n",
              "<table border=\"1\" class=\"dataframe\">\n",
              "  <thead>\n",
              "    <tr style=\"text-align: right;\">\n",
              "      <th></th>\n",
              "      <th>rating</th>\n",
              "    </tr>\n",
              "  </thead>\n",
              "  <tbody>\n",
              "    <tr>\n",
              "      <th>count</th>\n",
              "      <td>11772.000000</td>\n",
              "    </tr>\n",
              "    <tr>\n",
              "      <th>mean</th>\n",
              "      <td>3.473242</td>\n",
              "    </tr>\n",
              "    <tr>\n",
              "      <th>std</th>\n",
              "      <td>1.523039</td>\n",
              "    </tr>\n",
              "    <tr>\n",
              "      <th>min</th>\n",
              "      <td>1.000000</td>\n",
              "    </tr>\n",
              "    <tr>\n",
              "      <th>25%</th>\n",
              "      <td>2.000000</td>\n",
              "    </tr>\n",
              "    <tr>\n",
              "      <th>50%</th>\n",
              "      <td>4.000000</td>\n",
              "    </tr>\n",
              "    <tr>\n",
              "      <th>75%</th>\n",
              "      <td>5.000000</td>\n",
              "    </tr>\n",
              "    <tr>\n",
              "      <th>max</th>\n",
              "      <td>5.000000</td>\n",
              "    </tr>\n",
              "  </tbody>\n",
              "</table>\n",
              "</div>"
            ],
            "text/plain": [
              "             rating\n",
              "count  11772.000000\n",
              "mean       3.473242\n",
              "std        1.523039\n",
              "min        1.000000\n",
              "25%        2.000000\n",
              "50%        4.000000\n",
              "75%        5.000000\n",
              "max        5.000000"
            ]
          },
          "metadata": {
            "tags": []
          },
          "execution_count": 5
        }
      ]
    },
    {
      "cell_type": "code",
      "metadata": {
        "id": "8T4FOldrYYfk",
        "colab_type": "code",
        "outputId": "ceff91de-7b8f-4bfa-fafa-6993b27b31f0",
        "colab": {
          "base_uri": "https://localhost:8080/",
          "height": 134
        }
      },
      "source": [
        "data.count()"
      ],
      "execution_count": 6,
      "outputs": [
        {
          "output_type": "execute_result",
          "data": {
            "text/plain": [
              "web_pid      11772\n",
              "title        11771\n",
              "text         11758\n",
              "rating       11772\n",
              "text.1       11772\n",
              "sentiment    11772\n",
              "dtype: int64"
            ]
          },
          "metadata": {
            "tags": []
          },
          "execution_count": 6
        }
      ]
    },
    {
      "cell_type": "markdown",
      "metadata": {
        "id": "t6yu5QOJYr-n",
        "colab_type": "text"
      },
      "source": [
        "## Removing columns like Title, text."
      ]
    },
    {
      "cell_type": "code",
      "metadata": {
        "id": "sukdGIREYdaS",
        "colab_type": "code",
        "colab": {}
      },
      "source": [
        "data = data.drop('title', axis=1)\n",
        "data = data.drop('text', axis=1)\n"
      ],
      "execution_count": 0,
      "outputs": []
    },
    {
      "cell_type": "code",
      "metadata": {
        "id": "yddDzi-2ZMga",
        "colab_type": "code",
        "outputId": "84e96054-5028-4155-928b-5a4f737f0df9",
        "colab": {
          "base_uri": "https://localhost:8080/",
          "height": 402
        }
      },
      "source": [
        "data"
      ],
      "execution_count": 8,
      "outputs": [
        {
          "output_type": "execute_result",
          "data": {
            "text/html": [
              "<div>\n",
              "<style scoped>\n",
              "    .dataframe tbody tr th:only-of-type {\n",
              "        vertical-align: middle;\n",
              "    }\n",
              "\n",
              "    .dataframe tbody tr th {\n",
              "        vertical-align: top;\n",
              "    }\n",
              "\n",
              "    .dataframe thead th {\n",
              "        text-align: right;\n",
              "    }\n",
              "</style>\n",
              "<table border=\"1\" class=\"dataframe\">\n",
              "  <thead>\n",
              "    <tr style=\"text-align: right;\">\n",
              "      <th></th>\n",
              "      <th>web_pid</th>\n",
              "      <th>rating</th>\n",
              "      <th>text.1</th>\n",
              "      <th>sentiment</th>\n",
              "    </tr>\n",
              "  </thead>\n",
              "  <tbody>\n",
              "    <tr>\n",
              "      <th>0</th>\n",
              "      <td>B0725RDJCQ</td>\n",
              "      <td>5</td>\n",
              "      <td>Five StarsVery good quality and ordered L, it ...</td>\n",
              "      <td>Positive</td>\n",
              "    </tr>\n",
              "    <tr>\n",
              "      <th>1</th>\n",
              "      <td>B0725RDJCQ</td>\n",
              "      <td>3</td>\n",
              "      <td>The quality of fabrics is not good. According ...</td>\n",
              "      <td>Neutral</td>\n",
              "    </tr>\n",
              "    <tr>\n",
              "      <th>2</th>\n",
              "      <td>B0725RDJCQ</td>\n",
              "      <td>4</td>\n",
              "      <td>Very goodI ordered this from paytm .good quali...</td>\n",
              "      <td>Positive</td>\n",
              "    </tr>\n",
              "    <tr>\n",
              "      <th>3</th>\n",
              "      <td>B0725RDJCQ</td>\n",
              "      <td>2</td>\n",
              "      <td>Bad qualityProduct looks same as in the image ...</td>\n",
              "      <td>Negative</td>\n",
              "    </tr>\n",
              "    <tr>\n",
              "      <th>4</th>\n",
              "      <td>B071H63TH5</td>\n",
              "      <td>1</td>\n",
              "      <td>Very bad print and 3rd clasdPrint very bad</td>\n",
              "      <td>Negative</td>\n",
              "    </tr>\n",
              "    <tr>\n",
              "      <th>...</th>\n",
              "      <td>...</td>\n",
              "      <td>...</td>\n",
              "      <td>...</td>\n",
              "      <td>...</td>\n",
              "    </tr>\n",
              "    <tr>\n",
              "      <th>11767</th>\n",
              "      <td>B07CN14HW8</td>\n",
              "      <td>4</td>\n",
              "      <td>Four StarsExcellent...</td>\n",
              "      <td>Positive</td>\n",
              "    </tr>\n",
              "    <tr>\n",
              "      <th>11768</th>\n",
              "      <td>B07CN14HW8</td>\n",
              "      <td>4</td>\n",
              "      <td>Four StarsGood product</td>\n",
              "      <td>Positive</td>\n",
              "    </tr>\n",
              "    <tr>\n",
              "      <th>11769</th>\n",
              "      <td>B07CN14HW8</td>\n",
              "      <td>5</td>\n",
              "      <td>Good productAwesome product, liked very much. ...</td>\n",
              "      <td>Positive</td>\n",
              "    </tr>\n",
              "    <tr>\n",
              "      <th>11770</th>\n",
              "      <td>B07CN14HW8</td>\n",
              "      <td>4</td>\n",
              "      <td>Four StarsGood product acording to price range...</td>\n",
              "      <td>Positive</td>\n",
              "    </tr>\n",
              "    <tr>\n",
              "      <th>11771</th>\n",
              "      <td>B07CN14HW8</td>\n",
              "      <td>2</td>\n",
              "      <td>Vary Costly metireal difference at thisVary Co...</td>\n",
              "      <td>Negative</td>\n",
              "    </tr>\n",
              "  </tbody>\n",
              "</table>\n",
              "<p>11772 rows × 4 columns</p>\n",
              "</div>"
            ],
            "text/plain": [
              "          web_pid  ...  sentiment\n",
              "0      B0725RDJCQ  ...   Positive\n",
              "1      B0725RDJCQ  ...    Neutral\n",
              "2      B0725RDJCQ  ...   Positive\n",
              "3      B0725RDJCQ  ...   Negative\n",
              "4      B071H63TH5  ...   Negative\n",
              "...           ...  ...        ...\n",
              "11767  B07CN14HW8  ...   Positive\n",
              "11768  B07CN14HW8  ...   Positive\n",
              "11769  B07CN14HW8  ...   Positive\n",
              "11770  B07CN14HW8  ...   Positive\n",
              "11771  B07CN14HW8  ...   Negative\n",
              "\n",
              "[11772 rows x 4 columns]"
            ]
          },
          "metadata": {
            "tags": []
          },
          "execution_count": 8
        }
      ]
    },
    {
      "cell_type": "code",
      "metadata": {
        "id": "facCq5AnaCcF",
        "colab_type": "code",
        "outputId": "b7761054-4bd0-4c56-d040-7ab7b12e5c35",
        "colab": {
          "base_uri": "https://localhost:8080/",
          "height": 101
        }
      },
      "source": [
        "len(data)-data.count()"
      ],
      "execution_count": 9,
      "outputs": [
        {
          "output_type": "execute_result",
          "data": {
            "text/plain": [
              "web_pid      0\n",
              "rating       0\n",
              "text.1       0\n",
              "sentiment    0\n",
              "dtype: int64"
            ]
          },
          "metadata": {
            "tags": []
          },
          "execution_count": 9
        }
      ]
    },
    {
      "cell_type": "markdown",
      "metadata": {
        "id": "iJmR-01vbPOU",
        "colab_type": "text"
      },
      "source": [
        "## `Plotiing our data to get the figures."
      ]
    },
    {
      "cell_type": "code",
      "metadata": {
        "id": "4RDwsMApbKvf",
        "colab_type": "code",
        "outputId": "e387f1ce-ec8f-479c-f623-a90f4a87ccb5",
        "colab": {
          "base_uri": "https://localhost:8080/",
          "height": 279
        }
      },
      "source": [
        "import seaborn as sns\n",
        "import matplotlib.pyplot as plt\n",
        "\n",
        "sns.countplot(x='sentiment', data=data)\n",
        "plt.show()"
      ],
      "execution_count": 10,
      "outputs": [
        {
          "output_type": "display_data",
          "data": {
            "image/png": "[encoded data removed]",
            "text/plain": [
              "<Figure size 432x288 with 1 Axes>"
            ]
          },
          "metadata": {
            "tags": []
          }
        }
      ]
    },
    {
      "cell_type": "code",
      "metadata": {
        "id": "NzaCTIKkcgEP",
        "colab_type": "code",
        "outputId": "da3c2628-13c6-4efb-aa86-3e13de85d617",
        "colab": {
          "base_uri": "https://localhost:8080/",
          "height": 384
        }
      },
      "source": [
        "sns.factorplot(x='sentiment', data=data, order=['Negative','Neutral','Positive'], kind='count', col='rating', size=4, aspect=0.6, sharex=False, sharey=False)\n",
        "plt.show()"
      ],
      "execution_count": 11,
      "outputs": [
        {
          "output_type": "stream",
          "text": [
            "/usr/local/lib/python3.6/dist-packages/seaborn/categorical.py:3666: UserWarning: The `factorplot` function has been renamed to `catplot`. The original name will be removed in a future release. Please update your code. Note that the default `kind` in `factorplot` (`'point'`) has changed `'strip'` in `catplot`.\n",
            "  warnings.warn(msg)\n",
            "/usr/local/lib/python3.6/dist-packages/seaborn/categorical.py:3672: UserWarning: The `size` paramter has been renamed to `height`; please update your code.\n",
            "  warnings.warn(msg, UserWarning)\n"
          ],
          "name": "stderr"
        },
        {
          "output_type": "display_data",
          "data": {
            "image/png": "[encoded data removed]",
            "text/plain": [
              "<Figure size 864x288 with 5 Axes>"
            ]
          },
          "metadata": {
            "tags": []
          }
        }
      ]
    },
    {
      "cell_type": "markdown",
      "metadata": {
        "id": "WMgrLrPlFloZ",
        "colab_type": "text"
      },
      "source": [
        "# Downloading nltk package"
      ]
    },
    {
      "cell_type": "code",
      "metadata": {
        "id": "rRRDlQkNyDe2",
        "colab_type": "code",
        "outputId": "e4be72d7-7cda-4c55-d435-36a54f4bb32a",
        "colab": {
          "base_uri": "https://localhost:8080/",
          "height": 806
        }
      },
      "source": [
        "import nltk\n",
        "nltk.download('popular')"
      ],
      "execution_count": 12,
      "outputs": [
        {
          "output_type": "stream",
          "text": [
            "[nltk_data] Downloading collection 'popular'\n",
            "[nltk_data]    | \n",
            "[nltk_data]    | Downloading package cmudict to /root/nltk_data...\n",
            "[nltk_data]    |   Unzipping corpora/cmudict.zip.\n",
            "[nltk_data]    | Downloading package gazetteers to /root/nltk_data...\n",
            "[nltk_data]    |   Unzipping corpora/gazetteers.zip.\n",
            "[nltk_data]    | Downloading package genesis to /root/nltk_data...\n",
            "[nltk_data]    |   Unzipping corpora/genesis.zip.\n",
            "[nltk_data]    | Downloading package gutenberg to /root/nltk_data...\n",
            "[nltk_data]    |   Unzipping corpora/gutenberg.zip.\n",
            "[nltk_data]    | Downloading package inaugural to /root/nltk_data...\n",
            "[nltk_data]    |   Unzipping corpora/inaugural.zip.\n",
            "[nltk_data]    | Downloading package movie_reviews to\n",
            "[nltk_data]    |     /root/nltk_data...\n",
            "[nltk_data]    |   Unzipping corpora/movie_reviews.zip.\n",
            "[nltk_data]    | Downloading package names to /root/nltk_data...\n",
            "[nltk_data]    |   Unzipping corpora/names.zip.\n",
            "[nltk_data]    | Downloading package shakespeare to /root/nltk_data...\n",
            "[nltk_data]    |   Unzipping corpora/shakespeare.zip.\n",
            "[nltk_data]    | Downloading package stopwords to /root/nltk_data...\n",
            "[nltk_data]    |   Unzipping corpora/stopwords.zip.\n",
            "[nltk_data]    | Downloading package treebank to /root/nltk_data...\n",
            "[nltk_data]    |   Unzipping corpora/treebank.zip.\n",
            "[nltk_data]    | Downloading package twitter_samples to\n",
            "[nltk_data]    |     /root/nltk_data...\n",
            "[nltk_data]    |   Unzipping corpora/twitter_samples.zip.\n",
            "[nltk_data]    | Downloading package omw to /root/nltk_data...\n",
            "[nltk_data]    |   Unzipping corpora/omw.zip.\n",
            "[nltk_data]    | Downloading package wordnet to /root/nltk_data...\n",
            "[nltk_data]    |   Unzipping corpora/wordnet.zip.\n",
            "[nltk_data]    | Downloading package wordnet_ic to /root/nltk_data...\n",
            "[nltk_data]    |   Unzipping corpora/wordnet_ic.zip.\n",
            "[nltk_data]    | Downloading package words to /root/nltk_data...\n",
            "[nltk_data]    |   Unzipping corpora/words.zip.\n",
            "[nltk_data]    | Downloading package maxent_ne_chunker to\n",
            "[nltk_data]    |     /root/nltk_data...\n",
            "[nltk_data]    |   Unzipping chunkers/maxent_ne_chunker.zip.\n",
            "[nltk_data]    | Downloading package punkt to /root/nltk_data...\n",
            "[nltk_data]    |   Unzipping tokenizers/punkt.zip.\n",
            "[nltk_data]    | Downloading package snowball_data to\n",
            "[nltk_data]    |     /root/nltk_data...\n",
            "[nltk_data]    | Downloading package averaged_perceptron_tagger to\n",
            "[nltk_data]    |     /root/nltk_data...\n",
            "[nltk_data]    |   Unzipping taggers/averaged_perceptron_tagger.zip.\n",
            "[nltk_data]    | \n",
            "[nltk_data]  Done downloading collection popular\n"
          ],
          "name": "stdout"
        },
        {
          "output_type": "execute_result",
          "data": {
            "text/plain": [
              "True"
            ]
          },
          "metadata": {
            "tags": []
          },
          "execution_count": 12
        }
      ]
    },
    {
      "cell_type": "markdown",
      "metadata": {
        "id": "hkLppG-6Fzlh",
        "colab_type": "text"
      },
      "source": [
        "# Extracting Features"
      ]
    },
    {
      "cell_type": "code",
      "metadata": {
        "id": "ypBBWWS8BDM_",
        "colab_type": "code",
        "colab": {}
      },
      "source": [
        "import re\n",
        "from nltk.corpus import stopwords\n",
        "from sklearn.feature_extraction.text import TfidfVectorizer"
      ],
      "execution_count": 0,
      "outputs": []
    },
    {
      "cell_type": "code",
      "metadata": {
        "id": "viK8s9iyCJWR",
        "colab_type": "code",
        "outputId": "90c45f69-ce3a-412a-cdc9-a8d99b282d58",
        "colab": {
          "base_uri": "https://localhost:8080/",
          "height": 195
        }
      },
      "source": [
        "data.columns = ['web_pid','rating','text','sentiment']\n",
        "data.head()"
      ],
      "execution_count": 14,
      "outputs": [
        {
          "output_type": "execute_result",
          "data": {
            "text/html": [
              "<div>\n",
              "<style scoped>\n",
              "    .dataframe tbody tr th:only-of-type {\n",
              "        vertical-align: middle;\n",
              "    }\n",
              "\n",
              "    .dataframe tbody tr th {\n",
              "        vertical-align: top;\n",
              "    }\n",
              "\n",
              "    .dataframe thead th {\n",
              "        text-align: right;\n",
              "    }\n",
              "</style>\n",
              "<table border=\"1\" class=\"dataframe\">\n",
              "  <thead>\n",
              "    <tr style=\"text-align: right;\">\n",
              "      <th></th>\n",
              "      <th>web_pid</th>\n",
              "      <th>rating</th>\n",
              "      <th>text</th>\n",
              "      <th>sentiment</th>\n",
              "    </tr>\n",
              "  </thead>\n",
              "  <tbody>\n",
              "    <tr>\n",
              "      <th>0</th>\n",
              "      <td>B0725RDJCQ</td>\n",
              "      <td>5</td>\n",
              "      <td>Five StarsVery good quality and ordered L, it ...</td>\n",
              "      <td>Positive</td>\n",
              "    </tr>\n",
              "    <tr>\n",
              "      <th>1</th>\n",
              "      <td>B0725RDJCQ</td>\n",
              "      <td>3</td>\n",
              "      <td>The quality of fabrics is not good. According ...</td>\n",
              "      <td>Neutral</td>\n",
              "    </tr>\n",
              "    <tr>\n",
              "      <th>2</th>\n",
              "      <td>B0725RDJCQ</td>\n",
              "      <td>4</td>\n",
              "      <td>Very goodI ordered this from paytm .good quali...</td>\n",
              "      <td>Positive</td>\n",
              "    </tr>\n",
              "    <tr>\n",
              "      <th>3</th>\n",
              "      <td>B0725RDJCQ</td>\n",
              "      <td>2</td>\n",
              "      <td>Bad qualityProduct looks same as in the image ...</td>\n",
              "      <td>Negative</td>\n",
              "    </tr>\n",
              "    <tr>\n",
              "      <th>4</th>\n",
              "      <td>B071H63TH5</td>\n",
              "      <td>1</td>\n",
              "      <td>Very bad print and 3rd clasdPrint very bad</td>\n",
              "      <td>Negative</td>\n",
              "    </tr>\n",
              "  </tbody>\n",
              "</table>\n",
              "</div>"
            ],
            "text/plain": [
              "      web_pid  ...  sentiment\n",
              "0  B0725RDJCQ  ...   Positive\n",
              "1  B0725RDJCQ  ...    Neutral\n",
              "2  B0725RDJCQ  ...   Positive\n",
              "3  B0725RDJCQ  ...   Negative\n",
              "4  B071H63TH5  ...   Negative\n",
              "\n",
              "[5 rows x 4 columns]"
            ]
          },
          "metadata": {
            "tags": []
          },
          "execution_count": 14
        }
      ]
    },
    {
      "cell_type": "markdown",
      "metadata": {
        "id": "tkJmTuK6F-7s",
        "colab_type": "text"
      },
      "source": [
        "**Preprocessing training data**"
      ]
    },
    {
      "cell_type": "code",
      "metadata": {
        "id": "TZ_iHLrlp6q9",
        "colab_type": "code",
        "colab": {}
      },
      "source": [
        "#Removing words starting with @ symbol\n",
        "data['text']=data['text'].map(lambda x: re.sub('@\\w*', '', str(x)))\n",
        "\n",
        "#Removing words starting with http\n",
        "data['text']=data['text'].map(lambda x: re.sub('http.*', '', str(x)))\n",
        "\n",
        "#Removing date & time (numeric values)\n",
        "data['text']=data['text'].map(lambda x: re.sub('[0-9]','', str(x)))\n",
        "\n",
        "#Removing special characters\n",
        "data['text']=data['text'].map(lambda x: re.sub('[@|#|$|%|^|&|/|\\\\|:|]','',str(x)))\n"
      ],
      "execution_count": 0,
      "outputs": []
    },
    {
      "cell_type": "markdown",
      "metadata": {
        "id": "-Km45Ol4GOV-",
        "colab_type": "text"
      },
      "source": [
        "### `Checking null values and replacing it with \"ok\"`"
      ]
    },
    {
      "cell_type": "code",
      "metadata": {
        "id": "4BtYuiF9uO9S",
        "colab_type": "code",
        "outputId": "2897ab05-99ff-43ef-f3a5-2a19bd840d42",
        "colab": {
          "base_uri": "https://localhost:8080/",
          "height": 101
        }
      },
      "source": [
        "data.text.fillna('ok')\n",
        "data.isnull().any(axis=0)"
      ],
      "execution_count": 16,
      "outputs": [
        {
          "output_type": "execute_result",
          "data": {
            "text/plain": [
              "web_pid      False\n",
              "rating       False\n",
              "text         False\n",
              "sentiment    False\n",
              "dtype: bool"
            ]
          },
          "metadata": {
            "tags": []
          },
          "execution_count": 16
        }
      ]
    },
    {
      "cell_type": "markdown",
      "metadata": {
        "id": "6CUlRL1pGsk-",
        "colab_type": "text"
      },
      "source": [
        "**Removing Stopwords & tokenizing data**"
      ]
    },
    {
      "cell_type": "code",
      "metadata": {
        "id": "u7pto168vJa8",
        "colab_type": "code",
        "colab": {}
      },
      "source": [
        "#Removing stopwords\n",
        "stop = stopwords.words('english')\n",
        "text=[]\n",
        "empty=data['text'].map(lambda x: text.append(' '.join([word for word in str(x).strip().split() if word not in set(stop)])))\n",
        "\n",
        "#Tokenizig\n",
        "tfidf = TfidfVectorizer(strip_accents=None,lowercase=False,preprocessor=None)\n",
        "x_features = tfidf.fit_transform(text).toarray()\n"
      ],
      "execution_count": 0,
      "outputs": []
    },
    {
      "cell_type": "markdown",
      "metadata": {
        "id": "VBHxniTRHBKD",
        "colab_type": "text"
      },
      "source": [
        "### Checking shape of our training data"
      ]
    },
    {
      "cell_type": "code",
      "metadata": {
        "id": "8-sxrOvvKy-D",
        "colab_type": "code",
        "outputId": "8828a429-48af-4b59-c079-74867c630e46",
        "colab": {
          "base_uri": "https://localhost:8080/",
          "height": 34
        }
      },
      "source": [
        "x_features.shape"
      ],
      "execution_count": 18,
      "outputs": [
        {
          "output_type": "execute_result",
          "data": {
            "text/plain": [
              "(11772, 10194)"
            ]
          },
          "metadata": {
            "tags": []
          },
          "execution_count": 18
        }
      ]
    },
    {
      "cell_type": "markdown",
      "metadata": {
        "id": "uWnvu3UpHWbT",
        "colab_type": "text"
      },
      "source": [
        "### Viewing our tokenized training data"
      ]
    },
    {
      "cell_type": "code",
      "metadata": {
        "id": "eDxANP_gFycu",
        "colab_type": "code",
        "outputId": "7c6c7492-9ad9-43d4-ad4d-37e5c6581593",
        "colab": {
          "base_uri": "https://localhost:8080/",
          "height": 302
        }
      },
      "source": [
        "#Viewing our tokenized training data\n",
        "print(x_features[0,700:800])"
      ],
      "execution_count": 19,
      "outputs": [
        {
          "output_type": "stream",
          "text": [
            "[0.         0.         0.         0.         0.         0.\n",
            " 0.         0.         0.         0.         0.         0.\n",
            " 0.         0.         0.         0.         0.         0.\n",
            " 0.         0.         0.         0.         0.         0.\n",
            " 0.         0.         0.         0.         0.         0.\n",
            " 0.         0.         0.         0.         0.         0.\n",
            " 0.         0.         0.         0.         0.         0.\n",
            " 0.         0.         0.         0.         0.         0.\n",
            " 0.         0.         0.         0.         0.         0.\n",
            " 0.         0.         0.         0.         0.         0.\n",
            " 0.         0.         0.         0.         0.         0.\n",
            " 0.         0.         0.         0.         0.         0.\n",
            " 0.         0.         0.         0.         0.         0.\n",
            " 0.         0.         0.         0.         0.         0.\n",
            " 0.         0.         0.         0.         0.         0.\n",
            " 0.         0.         0.         0.         0.         0.\n",
            " 0.         0.         0.24896905 0.        ]\n"
          ],
          "name": "stdout"
        }
      ]
    },
    {
      "cell_type": "code",
      "metadata": {
        "id": "KNz-9j-yGnio",
        "colab_type": "code",
        "outputId": "10dffeee-e6c0-4cf7-e3a7-0ceb26bad72a",
        "colab": {
          "base_uri": "https://localhost:8080/",
          "height": 34
        }
      },
      "source": [
        "#checking our data\n",
        "import numpy as np\n",
        "\n",
        "np.isfinite(x_features.all())"
      ],
      "execution_count": 20,
      "outputs": [
        {
          "output_type": "execute_result",
          "data": {
            "text/plain": [
              "True"
            ]
          },
          "metadata": {
            "tags": []
          },
          "execution_count": 20
        }
      ]
    },
    {
      "cell_type": "markdown",
      "metadata": {
        "id": "n0Jd0gbmHhgJ",
        "colab_type": "text"
      },
      "source": [
        "### Getting our training labels seperately"
      ]
    },
    {
      "cell_type": "code",
      "metadata": {
        "id": "06k8wpMHLQ0i",
        "colab_type": "code",
        "colab": {}
      },
      "source": [
        "y = data['sentiment']\n",
        "y=pd.DataFrame(y, columns=['sentiment'])\n",
        "y = y['sentiment'].map({'Neutral':1,'Negative':2,'Positive':0})\n"
      ],
      "execution_count": 0,
      "outputs": []
    },
    {
      "cell_type": "code",
      "metadata": {
        "id": "6qJxdhDzhN4Q",
        "colab_type": "code",
        "outputId": "9ba30f6c-7145-4b34-f002-0058f240e989",
        "colab": {
          "base_uri": "https://localhost:8080/",
          "height": 218
        }
      },
      "source": [
        "y"
      ],
      "execution_count": 22,
      "outputs": [
        {
          "output_type": "execute_result",
          "data": {
            "text/plain": [
              "0        0\n",
              "1        1\n",
              "2        0\n",
              "3        2\n",
              "4        2\n",
              "        ..\n",
              "11767    0\n",
              "11768    0\n",
              "11769    0\n",
              "11770    0\n",
              "11771    2\n",
              "Name: sentiment, Length: 11772, dtype: int64"
            ]
          },
          "metadata": {
            "tags": []
          },
          "execution_count": 22
        }
      ]
    },
    {
      "cell_type": "code",
      "metadata": {
        "id": "LovIVShChyU7",
        "colab_type": "code",
        "outputId": "5a2b6d0a-0eac-4932-a473-d8ea8901b6fd",
        "colab": {
          "base_uri": "https://localhost:8080/",
          "height": 34
        }
      },
      "source": [
        "np.isfinite(y.all())"
      ],
      "execution_count": 23,
      "outputs": [
        {
          "output_type": "execute_result",
          "data": {
            "text/plain": [
              "True"
            ]
          },
          "metadata": {
            "tags": []
          },
          "execution_count": 23
        }
      ]
    },
    {
      "cell_type": "markdown",
      "metadata": {
        "id": "nDr4DyPZH2xN",
        "colab_type": "text"
      },
      "source": [
        "### Checking NAN in training data"
      ]
    },
    {
      "cell_type": "code",
      "metadata": {
        "id": "_wh8Za3jh5ck",
        "colab_type": "code",
        "outputId": "1bd26334-e2f1-4956-cbf1-19e1ca8b120b",
        "colab": {
          "base_uri": "https://localhost:8080/",
          "height": 34
        }
      },
      "source": [
        "print(np.argwhere(np.isnan(x_features)))"
      ],
      "execution_count": 24,
      "outputs": [
        {
          "output_type": "stream",
          "text": [
            "[]\n"
          ],
          "name": "stdout"
        }
      ]
    },
    {
      "cell_type": "markdown",
      "metadata": {
        "id": "g5tjLF2WILYY",
        "colab_type": "text"
      },
      "source": [
        "## Converting labels to one hot encoder"
      ]
    },
    {
      "cell_type": "code",
      "metadata": {
        "id": "TcoLtNZGqkD0",
        "colab_type": "code",
        "colab": {}
      },
      "source": [
        "from sklearn.preprocessing import OneHotEncoder"
      ],
      "execution_count": 0,
      "outputs": []
    },
    {
      "cell_type": "code",
      "metadata": {
        "id": "DBsVMthmquxJ",
        "colab_type": "code",
        "colab": {}
      },
      "source": [
        "#Extracting values from y and reshaping it.\n",
        "target = y.values\n",
        "target = target.reshape(-1,1)"
      ],
      "execution_count": 0,
      "outputs": []
    },
    {
      "cell_type": "code",
      "metadata": {
        "id": "1oVcdvaFrltb",
        "colab_type": "code",
        "outputId": "770efe85-c201-4b34-ce2a-442866b29e3b",
        "colab": {
          "base_uri": "https://localhost:8080/",
          "height": 134
        }
      },
      "source": [
        "#Printing target values\n",
        "target"
      ],
      "execution_count": 27,
      "outputs": [
        {
          "output_type": "execute_result",
          "data": {
            "text/plain": [
              "array([[0],\n",
              "       [1],\n",
              "       [0],\n",
              "       ...,\n",
              "       [0],\n",
              "       [0],\n",
              "       [2]])"
            ]
          },
          "metadata": {
            "tags": []
          },
          "execution_count": 27
        }
      ]
    },
    {
      "cell_type": "code",
      "metadata": {
        "id": "7GrnQGG_sKXJ",
        "colab_type": "code",
        "outputId": "e99d23bf-b4eb-425a-dee2-dafceda4492f",
        "colab": {
          "base_uri": "https://localhost:8080/",
          "height": 134
        }
      },
      "source": [
        "#Converting into One Hot Encoder\n",
        "\n",
        "ohe = OneHotEncoder()\n",
        "target = ohe.fit_transform(target).toarray()\n",
        "target"
      ],
      "execution_count": 28,
      "outputs": [
        {
          "output_type": "execute_result",
          "data": {
            "text/plain": [
              "array([[1., 0., 0.],\n",
              "       [0., 1., 0.],\n",
              "       [1., 0., 0.],\n",
              "       ...,\n",
              "       [1., 0., 0.],\n",
              "       [1., 0., 0.],\n",
              "       [0., 0., 1.]])"
            ]
          },
          "metadata": {
            "tags": []
          },
          "execution_count": 28
        }
      ]
    },
    {
      "cell_type": "code",
      "metadata": {
        "id": "Y13peLlrszq4",
        "colab_type": "code",
        "outputId": "6daa2cd8-6a8b-44d8-8bc1-988ca093ee57",
        "colab": {
          "base_uri": "https://localhost:8080/",
          "height": 195
        }
      },
      "source": [
        "#Changing Column names as 0->Positive, 1->Neutral & 2->Negative\n",
        "\n",
        "target=pd.DataFrame(data=target,columns=['Positive','Neutral','Negative'])\n",
        "target.head()"
      ],
      "execution_count": 29,
      "outputs": [
        {
          "output_type": "execute_result",
          "data": {
            "text/html": [
              "<div>\n",
              "<style scoped>\n",
              "    .dataframe tbody tr th:only-of-type {\n",
              "        vertical-align: middle;\n",
              "    }\n",
              "\n",
              "    .dataframe tbody tr th {\n",
              "        vertical-align: top;\n",
              "    }\n",
              "\n",
              "    .dataframe thead th {\n",
              "        text-align: right;\n",
              "    }\n",
              "</style>\n",
              "<table border=\"1\" class=\"dataframe\">\n",
              "  <thead>\n",
              "    <tr style=\"text-align: right;\">\n",
              "      <th></th>\n",
              "      <th>Positive</th>\n",
              "      <th>Neutral</th>\n",
              "      <th>Negative</th>\n",
              "    </tr>\n",
              "  </thead>\n",
              "  <tbody>\n",
              "    <tr>\n",
              "      <th>0</th>\n",
              "      <td>1.0</td>\n",
              "      <td>0.0</td>\n",
              "      <td>0.0</td>\n",
              "    </tr>\n",
              "    <tr>\n",
              "      <th>1</th>\n",
              "      <td>0.0</td>\n",
              "      <td>1.0</td>\n",
              "      <td>0.0</td>\n",
              "    </tr>\n",
              "    <tr>\n",
              "      <th>2</th>\n",
              "      <td>1.0</td>\n",
              "      <td>0.0</td>\n",
              "      <td>0.0</td>\n",
              "    </tr>\n",
              "    <tr>\n",
              "      <th>3</th>\n",
              "      <td>0.0</td>\n",
              "      <td>0.0</td>\n",
              "      <td>1.0</td>\n",
              "    </tr>\n",
              "    <tr>\n",
              "      <th>4</th>\n",
              "      <td>0.0</td>\n",
              "      <td>0.0</td>\n",
              "      <td>1.0</td>\n",
              "    </tr>\n",
              "  </tbody>\n",
              "</table>\n",
              "</div>"
            ],
            "text/plain": [
              "   Positive  Neutral  Negative\n",
              "0       1.0      0.0       0.0\n",
              "1       0.0      1.0       0.0\n",
              "2       1.0      0.0       0.0\n",
              "3       0.0      0.0       1.0\n",
              "4       0.0      0.0       1.0"
            ]
          },
          "metadata": {
            "tags": []
          },
          "execution_count": 29
        }
      ]
    },
    {
      "cell_type": "markdown",
      "metadata": {
        "id": "pbdQ6-VxIV_L",
        "colab_type": "text"
      },
      "source": [
        "# **Builting and training the Model**"
      ]
    },
    {
      "cell_type": "code",
      "metadata": {
        "id": "lVxyML0TmMQT",
        "colab_type": "code",
        "outputId": "344e0e5a-37c6-495b-a4ec-cca091d3ad40",
        "colab": {
          "base_uri": "https://localhost:8080/",
          "height": 79
        }
      },
      "source": [
        "#importing libraries\n",
        "from keras.models import Sequential\n",
        "from keras.layers import Dense,Dropout\n",
        "from keras import regularizers\n",
        "from keras.callbacks import EarlyStopping"
      ],
      "execution_count": 30,
      "outputs": [
        {
          "output_type": "stream",
          "text": [
            "Using TensorFlow backend.\n"
          ],
          "name": "stderr"
        },
        {
          "output_type": "display_data",
          "data": {
            "text/html": [
              "<p style=\"color: red;\">\n",
              "The default version of TensorFlow in Colab will soon switch to TensorFlow 2.x.<br>\n",
              "We recommend you <a href=\"https://www.tensorflow.org/guide/migrate\" target=\"_blank\">upgrade</a> now \n",
              "or ensure your notebook will continue to use TensorFlow 1.x via the <code>%tensorflow_version 1.x</code> magic:\n",
              "<a href=\"https://colab.research.google.com/notebooks/tensorflow_version.ipynb\" target=\"_blank\">more info</a>.</p>\n"
            ],
            "text/plain": [
              "<IPython.core.display.HTML object>"
            ]
          },
          "metadata": {
            "tags": []
          }
        }
      ]
    },
    {
      "cell_type": "code",
      "metadata": {
        "id": "z3fvpRj5qaFm",
        "colab_type": "code",
        "outputId": "29fa96fc-980d-4ba9-ed65-69894707e7f5",
        "colab": {
          "base_uri": "https://localhost:8080/",
          "height": 302
        }
      },
      "source": [
        "#Builting the model with layers\n",
        "\n",
        "model = Sequential()\n",
        "model.add(Dense(units=5012, activation='relu',kernel_initializer='uniform',kernel_regularizer=regularizers.l2(0.001),input_dim=10194))\n",
        "model.add(Dense(units=5012, activation='relu',kernel_initializer='uniform',kernel_regularizer=regularizers.l2(0.001)))\n",
        "model.add(Dense(units=5012, activation='relu',kernel_initializer='uniform',kernel_regularizer=regularizers.l2(0.001)))\n",
        "model.add(Dense(units=3, activation='softmax',kernel_initializer='uniform'))\n",
        "\n",
        "#Compiling the model\n",
        "model.compile(optimizer='adam',loss='categorical_crossentropy',metrics=['accuracy'])\n",
        "\n",
        "#Training the model\n",
        "history=model.fit(x_features,target,batch_size=64,epochs=8,validation_split=0.25,verbose=1)"
      ],
      "execution_count": 35,
      "outputs": [
        {
          "output_type": "stream",
          "text": [
            "Train on 8829 samples, validate on 2943 samples\n",
            "Epoch 1/8\n",
            "8829/8829 [==============================] - 307s 35ms/step - loss: 11.4682 - acc: 0.8639 - val_loss: 0.6840 - val_acc: 0.8926\n",
            "Epoch 2/8\n",
            "8829/8829 [==============================] - 306s 35ms/step - loss: 0.4826 - acc: 0.9265 - val_loss: 0.5354 - val_acc: 0.8960\n",
            "Epoch 3/8\n",
            "8829/8829 [==============================] - 307s 35ms/step - loss: 0.3858 - acc: 0.9444 - val_loss: 0.5240 - val_acc: 0.8882\n",
            "Epoch 4/8\n",
            "8829/8829 [==============================] - 306s 35ms/step - loss: 0.3024 - acc: 0.9649 - val_loss: 0.5026 - val_acc: 0.8916\n",
            "Epoch 5/8\n",
            "8829/8829 [==============================] - 308s 35ms/step - loss: 0.2446 - acc: 0.9745 - val_loss: 0.4958 - val_acc: 0.8940\n",
            "Epoch 6/8\n",
            "8829/8829 [==============================] - 307s 35ms/step - loss: 0.2105 - acc: 0.9800 - val_loss: 0.5186 - val_acc: 0.8957\n",
            "Epoch 7/8\n",
            "8829/8829 [==============================] - 306s 35ms/step - loss: 0.1833 - acc: 0.9852 - val_loss: 0.4970 - val_acc: 0.8970\n",
            "Epoch 8/8\n",
            "8829/8829 [==============================] - 305s 35ms/step - loss: 0.1481 - acc: 0.9897 - val_loss: 0.5006 - val_acc: 0.8811\n"
          ],
          "name": "stdout"
        }
      ]
    },
    {
      "cell_type": "code",
      "metadata": {
        "id": "ELLglIfKMoOC",
        "colab_type": "code",
        "colab": {
          "base_uri": "https://localhost:8080/",
          "height": 295
        },
        "outputId": "88f36bfe-d0dd-4a2f-f7b4-096738ea0dd4"
      },
      "source": [
        "#Plotting Model Loss\n",
        "\n",
        "import matplotlib.pyplot as plt\n",
        "\n",
        "plt.plot(history.history['loss'],label='train')\n",
        "plt.plot(history.history['val_loss'],label='test')\n",
        "\n",
        "plt.title('Model Loss')\n",
        "plt.xlabel('epochs')\n",
        "plt.ylabel('loss')\n",
        "plt.legend()\n",
        "plt.show()"
      ],
      "execution_count": 36,
      "outputs": [
        {
          "output_type": "display_data",
          "data": {
            "image/png": "[encoded data removed]",
            "text/plain": [
              "<Figure size 432x288 with 1 Axes>"
            ]
          },
          "metadata": {
            "tags": []
          }
        }
      ]
    },
    {
      "cell_type": "code",
      "metadata": {
        "id": "wPJbObzCM0Sl",
        "colab_type": "code",
        "colab": {
          "base_uri": "https://localhost:8080/",
          "height": 295
        },
        "outputId": "73494155-060d-4e47-f659-bd0901a10c97"
      },
      "source": [
        "#Plotting Model Accuracy\n",
        "\n",
        "plt.plot(history.history['acc'],label='train')\n",
        "plt.plot(history.history['val_acc'],label='test')\n",
        "\n",
        "plt.title('Model Accuracy')\n",
        "plt.xlabel('epochs')\n",
        "plt.ylabel('accuracy')\n",
        "plt.legend()\n",
        "plt.show()"
      ],
      "execution_count": 37,
      "outputs": [
        {
          "output_type": "display_data",
          "data": {
            "image/png": "[encoded data removed]",
            "text/plain": [
              "<Figure size 432x288 with 1 Axes>"
            ]
          },
          "metadata": {
            "tags": []
          }
        }
      ]
    },
    {
      "cell_type": "markdown",
      "metadata": {
        "id": "ZkYGTZVEJzw9",
        "colab_type": "text"
      },
      "source": [
        "## Conclusion"
      ]
    },
    {
      "cell_type": "markdown",
      "metadata": {
        "id": "qyBRoao8JTpg",
        "colab_type": "text"
      },
      "source": [
        "*As one can say by looking at the results from the model that the model has high Variance. Therefore we make few changes (adding Dropout) in the model to reduce variance and train it again below.*"
      ]
    },
    {
      "cell_type": "code",
      "metadata": {
        "id": "5L2UtUSO6u28",
        "colab_type": "code",
        "colab": {
          "base_uri": "https://localhost:8080/",
          "height": 423
        },
        "outputId": "b55e269a-5853-460a-9044-c621e9fa677a"
      },
      "source": [
        "#Builting the model\n",
        "\n",
        "model = Sequential()\n",
        "model.add(Dense(units=5012, activation='relu',kernel_initializer='uniform',kernel_regularizer=regularizers.l2(0.006),input_dim=10194))\n",
        "model.add(Dense(units=5012, activation='relu',kernel_initializer='uniform',kernel_regularizer=regularizers.l2(0.006)))\n",
        "model.add(Dropout(0.5))\n",
        "model.add(Dense(units=5012, activation='relu',kernel_initializer='uniform',kernel_regularizer=regularizers.l2(0.006)))\n",
        "model.add(Dropout(0.5))\n",
        "model.add(Dense(units=3, activation='softmax',kernel_initializer='uniform'))\n",
        "\n",
        "#Compiling the model\n",
        "model.compile(optimizer='adam',loss='categorical_crossentropy',metrics=['accuracy'])\n",
        "\n",
        "#EarlyStopping\n",
        "es = EarlyStopping(verbose=1)\n",
        "\n",
        "#Training the model\n",
        "history=model.fit(x_features,target,batch_size=64,epochs=10,validation_split=0.15,verbose=1,callbacks=[es])"
      ],
      "execution_count": 38,
      "outputs": [
        {
          "output_type": "stream",
          "text": [
            "WARNING:tensorflow:From /usr/local/lib/python3.6/dist-packages/keras/backend/tensorflow_backend.py:148: The name tf.placeholder_with_default is deprecated. Please use tf.compat.v1.placeholder_with_default instead.\n",
            "\n",
            "WARNING:tensorflow:From /usr/local/lib/python3.6/dist-packages/keras/backend/tensorflow_backend.py:3733: calling dropout (from tensorflow.python.ops.nn_ops) with keep_prob is deprecated and will be removed in a future version.\n",
            "Instructions for updating:\n",
            "Please use `rate` instead of `keep_prob`. Rate should be set to `rate = 1 - keep_prob`.\n",
            "Train on 10006 samples, validate on 1766 samples\n",
            "Epoch 1/10\n",
            "10006/10006 [==============================] - 341s 34ms/step - loss: 47.2441 - acc: 0.8445 - val_loss: 0.6887 - val_acc: 0.8958\n",
            "Epoch 2/10\n",
            "10006/10006 [==============================] - 369s 37ms/step - loss: 0.6582 - acc: 0.8898 - val_loss: 0.6569 - val_acc: 0.8873\n",
            "Epoch 3/10\n",
            "10006/10006 [==============================] - 373s 37ms/step - loss: 0.5787 - acc: 0.9024 - val_loss: 0.5752 - val_acc: 0.9003\n",
            "Epoch 4/10\n",
            "10006/10006 [==============================] - 369s 37ms/step - loss: 0.5184 - acc: 0.9133 - val_loss: 0.5286 - val_acc: 0.9032\n",
            "Epoch 5/10\n",
            "10006/10006 [==============================] - 372s 37ms/step - loss: 0.4738 - acc: 0.9194 - val_loss: 0.5206 - val_acc: 0.9020\n",
            "Epoch 6/10\n",
            "10006/10006 [==============================] - 381s 38ms/step - loss: 0.4353 - acc: 0.9275 - val_loss: 0.4831 - val_acc: 0.9088\n",
            "Epoch 7/10\n",
            "10006/10006 [==============================] - 373s 37ms/step - loss: 0.4129 - acc: 0.9351 - val_loss: 0.4784 - val_acc: 0.9077\n",
            "Epoch 8/10\n",
            "10006/10006 [==============================] - 371s 37ms/step - loss: 0.3938 - acc: 0.9386 - val_loss: 0.4958 - val_acc: 0.8924\n",
            "Epoch 00008: early stopping\n"
          ],
          "name": "stdout"
        }
      ]
    },
    {
      "cell_type": "code",
      "metadata": {
        "id": "YeYkJnjUH5zs",
        "colab_type": "code",
        "colab": {
          "base_uri": "https://localhost:8080/",
          "height": 295
        },
        "outputId": "1ce1bef9-743f-4144-abc1-9e17d7b21cbe"
      },
      "source": [
        "#Plotting the model Loss\n",
        "\n",
        "plt.plot(history.history['loss'],label='train')\n",
        "plt.plot(history.history['val_loss'],label='test')\n",
        "\n",
        "plt.title('Model Loss')\n",
        "plt.xlabel('epochs')\n",
        "plt.ylabel('loss')\n",
        "plt.legend()\n",
        "plt.show()"
      ],
      "execution_count": 39,
      "outputs": [
        {
          "output_type": "display_data",
          "data": {
            "image/png": "[encoded data removed]",
            "text/plain": [
              "<Figure size 432x288 with 1 Axes>"
            ]
          },
          "metadata": {
            "tags": []
          }
        }
      ]
    },
    {
      "cell_type": "code",
      "metadata": {
        "id": "K8PfFp1RBKzj",
        "colab_type": "code",
        "colab": {
          "base_uri": "https://localhost:8080/",
          "height": 295
        },
        "outputId": "a7ddbd11-6236-4ab6-ba55-cbd3cc79f4d8"
      },
      "source": [
        "#Plotting Model Accuracy\n",
        "\n",
        "plt.plot(history.history['acc'],label='train')\n",
        "plt.plot(history.history['val_acc'],label='test')\n",
        "\n",
        "plt.title('Model Accuracy')\n",
        "plt.xlabel('epochs')\n",
        "plt.ylabel('accuracy')\n",
        "plt.legend()\n",
        "plt.show()"
      ],
      "execution_count": 40,
      "outputs": [
        {
          "output_type": "display_data",
          "data": {
            "image/png": "[encoded data removed]",
            "text/plain": [
              "<Figure size 432x288 with 1 Axes>"
            ]
          },
          "metadata": {
            "tags": []
          }
        }
      ]
    },
    {
      "cell_type": "markdown",
      "metadata": {
        "id": "Y0ph2YlyK-iL",
        "colab_type": "text"
      },
      "source": [
        "## Conclusion"
      ]
    },
    {
      "cell_type": "markdown",
      "metadata": {
        "id": "PFBZq_MyLD3j",
        "colab_type": "text"
      },
      "source": [
        "The above model ow does not have variance problem but it seems to be biased to some features. And also we see that in both the cases our test accuracy does not changes much but revolves around .89. Therefore we may need more training data especially for *Neutral* & *Negative* Category "
      ]
    },
    {
      "cell_type": "markdown",
      "metadata": {
        "id": "CzzbUe_6cX16",
        "colab_type": "text"
      },
      "source": [
        "# THE END"
      ]
    },
    {
      "cell_type": "code",
      "metadata": {
        "id": "Oea0ZqG7DPw3",
        "colab_type": "code",
        "colab": {}
      },
      "source": [
        ""
      ],
      "execution_count": 0,
      "outputs": []
    }
  ]
}